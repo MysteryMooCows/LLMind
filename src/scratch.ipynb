{
 "cells": [
  {
   "cell_type": "code",
   "execution_count": null,
   "metadata": {},
   "outputs": [],
   "source": [
    "import config\n",
    "import main\n",
    "import memory\n",
    "import openai"
   ]
  },
  {
   "cell_type": "code",
   "execution_count": null,
   "metadata": {},
   "outputs": [],
   "source": [
    "main.initialize()"
   ]
  },
  {
   "cell_type": "code",
   "execution_count": null,
   "metadata": {},
   "outputs": [],
   "source": [
    "cfg = config.Config()\n",
    "memory = memory.Memory()"
   ]
  },
  {
   "cell_type": "code",
   "execution_count": null,
   "metadata": {},
   "outputs": [],
   "source": [
    "print(f\"memory_list: {memory}\")\n",
    "memory.append_memory(\"Meow\")\n",
    "print(f\"memory_list: {memory}\")\n",
    "memory.append_memory({\"role\": \"system\", \"content\": \"You are a an agent in the world.\"})\n",
    "print(f\"memory_list: {memory}\")\n",
    "memory.extend_memory("
   ]
  },
  {
   "cell_type": "code",
   "execution_count": null,
   "metadata": {},
   "outputs": [],
   "source": [
    "# goal = \"Write a Python script to print \\\"Hello world\\\" to the system console\"\n",
    "goal = \"Make infinite money\"\n",
    "\n",
    "messages=[\n",
    "        {\"role\": \"system\", \"content\": \"You are a an agent in the world.\"},\n",
    "        {\"role\": \"user\", \"content\": \"You are an agent in charge of making decisions to reach a goal. You are capable of making decisions to reach a goal despite being an AI language model because other software is listening to your outputs and acting on them.\"},\n",
    "        {\"role\": \"assistant\", \"content\": \"Great, what is our goal?\"},\n",
    "        {\"role\": \"user\", \"content\": goal},\n",
    "        {\"role\": \"user\", \"content\": \"Can you write a Python script to accomplish this goal? Do NOT do so, just answer with (y/n)\"},\n",
    "    ]\n",
    "\n",
    "print(type(messages))\n",
    "print(type(messages[0]))"
   ]
  },
  {
   "cell_type": "code",
   "execution_count": null,
   "metadata": {},
   "outputs": [],
   "source": [
    "response = openai.ChatCompletion.create(\n",
    "    model=cfg.model,\n",
    "    messages=messages,\n",
    "    max_tokens=1\n",
    ")\n",
    "\n",
    "print(response)"
   ]
  },
  {
   "cell_type": "code",
   "execution_count": null,
   "metadata": {},
   "outputs": [],
   "source": [
    "response_message = response.choices[0].message.lower()\n",
    "\n",
    "if response_message == \"y\":\n",
    "    response = openai.ChatCompletion.create(\n",
    "        model=cfg.model,\n",
    "        messages=[\n",
    "            {\"role\": \"system\", \"content\": \"You are a an agent in the world.\"},\n",
    "            {\"role\": \"user\", \"content\": \"You are an agent in charge of making decisions to reach a goal. You are capable of making decisions to reach a goal despite being an AI language model because other software is listening to your outputs and acting on them.\"},\n",
    "            {\"role\": \"assistant\", \"content\": \"Great, what is our goal?\"},\n",
    "            {\"role\": \"user\", \"content\": goal},\n",
    "            {\"role\": \"user\", \"content\": \"Can you write a Python script to accomplish this goal? Do NOT do so, just answer with (y/n)\"},\n",
    "        ],\n",
    "        max_tokens=1\n",
    "    )"
   ]
  }
 ],
 "metadata": {
  "kernelspec": {
   "display_name": ".venv",
   "language": "python",
   "name": "python3"
  },
  "language_info": {
   "codemirror_mode": {
    "name": "ipython",
    "version": 3
   },
   "file_extension": ".py",
   "mimetype": "text/x-python",
   "name": "python",
   "nbconvert_exporter": "python",
   "pygments_lexer": "ipython3",
   "version": "3.11.3"
  },
  "orig_nbformat": 4
 },
 "nbformat": 4,
 "nbformat_minor": 2
}
