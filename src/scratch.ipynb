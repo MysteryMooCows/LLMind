{
 "cells": [
  {
   "cell_type": "code",
   "execution_count": null,
   "metadata": {},
   "outputs": [],
   "source": [
    "from src.config import Config\n",
    "import main\n",
    "import memory\n",
    "import prompt\n",
    "\n",
    "import openai"
   ]
  },
  {
   "cell_type": "code",
   "execution_count": null,
   "metadata": {},
   "outputs": [],
   "source": [
    "main.initialize()"
   ]
  },
  {
   "cell_type": "code",
   "execution_count": null,
   "metadata": {},
   "outputs": [],
   "source": [
    "cfg = Config()\n",
    "memory = memory.Memory()"
   ]
  },
  {
   "cell_type": "code",
   "execution_count": null,
   "metadata": {},
   "outputs": [],
   "source": [
    "# Test memory log\n",
    "\n",
    "print(f\"memory_list: {memory}\")\n",
    "memory.append_log(\"Meow\")\n",
    "print(f\"memory_list: {memory}\")\n",
    "memory.append_log({\"role\": \"system\", \"content\": \"You are a an agent in the world.\"})\n",
    "print(f\"memory_list: {memory}\")"
   ]
  },
  {
   "cell_type": "code",
   "execution_count": null,
   "metadata": {},
   "outputs": [],
   "source": [
    "memory.clear_log()\n",
    "print(memory)"
   ]
  },
  {
   "cell_type": "code",
   "execution_count": null,
   "metadata": {},
   "outputs": [],
   "source": [
    "goal = \"Write a Python script to print the square of the numbers 0 to 9 (inclusive) to the system console\"\n",
    "# goal = \"Write a Python script to print \\\"Hello world\\\" to the system console\"\n",
    "# goal = \"Make infinite money\"\n",
    "\n",
    "messages=[\n",
    "        {\"role\": \"system\", \"content\": \"You are an agent in the world.\"},\n",
    "        {\"role\": \"user\", \"content\": \"You are an agent in charge of making decisions to reach a goal. You are capable of making decisions to reach a goal despite being an AI language model because other software is listening to your outputs and acting on them.\"},\n",
    "        {\"role\": \"assistant\", \"content\": \"Great, what is our goal?\"},\n",
    "        {\"role\": \"user\", \"content\": goal},\n",
    "        {\"role\": \"user\", \"content\": \"Can you write a Python script to accomplish this goal? Do NOT do so, just answer with (y/n)\"},\n",
    "    ]"
   ]
  },
  {
   "cell_type": "code",
   "execution_count": null,
   "metadata": {},
   "outputs": [],
   "source": [
    "llm_response = openai.ChatCompletion.create(\n",
    "    model=cfg.model,\n",
    "    messages=messages,\n",
    "    max_tokens=1\n",
    ")\n",
    "\n",
    "print(llm_response)"
   ]
  },
  {
   "cell_type": "code",
   "execution_count": null,
   "metadata": {},
   "outputs": [],
   "source": [
    "memory.extend_log(messages)"
   ]
  },
  {
   "cell_type": "code",
   "execution_count": null,
   "metadata": {},
   "outputs": [],
   "source": [
    "response_msg_dict = dict(llm_response.choices[0].message)\n",
    "memory.append_log(response_msg_dict)\n",
    "print(memory)"
   ]
  },
  {
   "cell_type": "code",
   "execution_count": null,
   "metadata": {},
   "outputs": [],
   "source": [
    "if memory.get_last_log_entry(role=\"assistant\")[\"content\"].lower() == \"y\":\n",
    "    prompt = prompt.Prompt()\n",
    "    prompt.extend_log(memory.get_log())\n",
    "    \n",
    "    user_response_msg = {\"role\": \"user\", \"content\": \"Please write the script. Enclose the script in Markdown code tags. Do not include any explanation, only include code.\"}\n",
    "    prompt.append_log(user_response_msg)\n",
    "\n",
    "    print(prompt)\n",
    "\n",
    "    llm_response = prompt.send()\n",
    "    llm_response_msg = dict(llm_response.choices[0].message)\n",
    "\n",
    "    memory.append_log(user_response_msg)\n",
    "    memory.append_log(llm_response_msg)\n",
    "\n",
    "    print()\n",
    "    print(f\"memory:\\n{memory}\")\n",
    "    print()\n",
    "    print(f\"llm_response_msg['content']:\\n{llm_response_msg['content']}\")\n",
    "    print()\n",
    "    print(f\"llm_response:\\n{llm_response}\")\n",
    "\n",
    "else:\n",
    "    print(\"COWS\")"
   ]
  },
  {
   "cell_type": "code",
   "execution_count": null,
   "metadata": {},
   "outputs": [],
   "source": [
    "# memory.erase_last_n_log_entries(2)\n",
    "# print(memory)"
   ]
  },
  {
   "cell_type": "code",
   "execution_count": null,
   "metadata": {},
   "outputs": [],
   "source": [
    "memory.get_last_log_entry(role=\"assistant\")[\"content\"]"
   ]
  },
  {
   "cell_type": "code",
   "execution_count": null,
   "metadata": {},
   "outputs": [],
   "source": [
    "llm_response_msg = memory.get_last_log_entry(role=\"assistant\")[\"content\"]\n",
    "\n",
    "CODE_DELIM = \"```\"\n",
    "code_start_idx = llm_response_msg.find(CODE_DELIM)\n",
    "\n",
    "code = llm_response_msg[code_start_idx+len(CODE_DELIM):llm_response_msg.find(CODE_DELIM, code_start_idx+len(CODE_DELIM))]\n",
    "\n",
    "LANG_STR = \"python\"\n",
    "if code.startswith(LANG_STR):\n",
    "    code = code[code.find(LANG_STR)+len(LANG_STR):]\n",
    "\n",
    "print(code)"
   ]
  },
  {
   "cell_type": "code",
   "execution_count": null,
   "metadata": {},
   "outputs": [],
   "source": [
    "exec(code)"
   ]
  }
 ],
 "metadata": {
  "kernelspec": {
   "display_name": ".venv",
   "language": "python",
   "name": "python3"
  },
  "language_info": {
   "codemirror_mode": {
    "name": "ipython",
    "version": 3
   },
   "file_extension": ".py",
   "mimetype": "text/x-python",
   "name": "python",
   "nbconvert_exporter": "python",
   "pygments_lexer": "ipython3",
   "version": "3.11.3"
  },
  "orig_nbformat": 4
 },
 "nbformat": 4,
 "nbformat_minor": 2
}
